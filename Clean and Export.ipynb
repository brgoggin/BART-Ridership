{
 "cells": [
  {
   "cell_type": "markdown",
   "metadata": {},
   "source": [
    "# Clean and Export\n",
    "This file cleans and exports BART ridership data for mapping for the following blog post: \n",
    "http://www.briangoggin.com/2016/09/11/remember-barts-twitter-fight-earlier-this-year-weekday-exit-numbers-back-them-up/\n"
   ]
  },
  {
   "cell_type": "code",
   "execution_count": 238,
   "metadata": {
    "collapsed": true
   },
   "outputs": [],
   "source": [
    "#import pandas and numpy\n",
    "import pandas as pd\n",
    "import matplotlib as mpl\n",
    "import matplotlib.pyplot as plt\n",
    "import numpy as np"
   ]
  },
  {
   "cell_type": "code",
   "execution_count": 239,
   "metadata": {
    "collapsed": true
   },
   "outputs": [],
   "source": [
    "#raw data\n",
    "raw_data = '/Raw Data/FY Avg Wkdy Exits by Station_3.xlsx'"
   ]
  },
  {
   "cell_type": "code",
   "execution_count": 240,
   "metadata": {
    "collapsed": true
   },
   "outputs": [],
   "source": [
    "#import data from excel\n",
    "data = pd.read_excel(raw_data)"
   ]
  },
  {
   "cell_type": "code",
   "execution_count": 241,
   "metadata": {
    "collapsed": true
   },
   "outputs": [],
   "source": [
    "#drop unnecessary rows\n",
    "data = data.drop([0, 1, 48, 49, 50, 51, 52, 53])\n",
    "\n",
    "#make name of initial row column headings\n",
    "data.columns = data.iloc[0]\n",
    "data = data.drop([2])"
   ]
  },
  {
   "cell_type": "code",
   "execution_count": 242,
   "metadata": {
    "collapsed": true
   },
   "outputs": [],
   "source": [
    "#generate percentage change variable\n",
    "data['pct_change'] = (100*(data['FY16'] - data['FY99'])/data['FY99'])"
   ]
  },
  {
   "cell_type": "code",
   "execution_count": 243,
   "metadata": {
    "collapsed": true
   },
   "outputs": [],
   "source": [
    "#create dictionary and crosswalk for station names\n",
    "st_names = {'Richmond': 'Richmond (RICH)', \n",
    "'Rockridge': 'Rockridge (ROCK)', \n",
    "'El Cerrito Del Norte': 'El Cerrito del Norte (DELN)', \n",
    "'El Cerrito Plaza': 'El Cerrito Plaza (PLZA)', \n",
    "'North Berkeley': 'North Berkeley (NBRK)', \n",
    "'Berkeley': 'Downtown Berkeley (DBRK)', \n",
    "'Ashby': 'Ashby (ASHB)', \n",
    "'MacArthur': 'MacArthur (MCAR)', \n",
    "'19th Street Oakland': '19th St. Oakland (19TH)', \n",
    "'12th Street / Oakland City Center': '12th St. Oakland City Center (12TH)', \n",
    "'Lake Merritt': 'Lake Merritt (LAKE)', \n",
    "'Fruitvale': 'Fruitvale (FTVL)', \n",
    "'Coliseum / Oakland Airport': 'Coliseum/Oakland Airport (COLS)', \n",
    "'San Leandro': 'San Leandro (SANL)', \n",
    "'Bayfair': 'Bay Fair (BAYF)', \n",
    "'Hayward': 'Hayward (HAYW)', \n",
    "'South Hayward': 'South Hayward (SHAY)', \n",
    "'Union City': 'Union City (UCTY)', \n",
    "'Fremont': 'Fremont (FRMT)', \n",
    "'Concord': 'Concord (CONC)', \n",
    "'Pleasant Hill': 'Pleasant Hill/Contra Costa Centre (PHIL)', \n",
    "'Walnut Creek': 'Walnut Creek (WCRK)', \n",
    "'Lafayette': 'Lafayette (LAFY)', \n",
    "'Orinda': 'Orinda (ORIN)', \n",
    "'West Oakland': 'West Oakland (WOAK)', \n",
    "'Embarcadero': 'Embarcadero (EMBR)', \n",
    "'Montgomery Street': 'Montgomery St. (MONT)', \n",
    "'Powell Street': 'Powell St. (POWL)', \n",
    "'Civic Center': 'Civic Center/UN Plaza (CIVC)', \n",
    "'16th Street Mission': '16th St. Mission (16TH)', \n",
    "'24th Street Mission': '24th St. Mission (24TH)', \n",
    "'Glen Park': 'Glen Park (GLEN)', \n",
    "'Balboa Park': 'Balboa Park (BALB)', \n",
    "'Daly City': 'Daly City (DALY)', \n",
    "'Colma': 'Colma (COLM)', \n",
    "'Castro Valley': 'Castro Valley (CAST)', \n",
    "'Dublin / Pleasanton': 'Dublin/Pleasanton (DUBL)', \n",
    "'North Concord / Martinez': 'North Concord/Martinez (NCON)', \n",
    "'Pittsburg/BayPoint': 'Pittsburg/Bay Point (PITT)', \n",
    "'South San Francisco': 'South San Francisco (SSAN)', \n",
    "'San Bruno': 'San Bruno (SBRN)', \n",
    "'San Francisco Airport': \"San Francisco Int'l Airport (SFIA)\", \n",
    "'Millbrae': 'Millbrae (MLBR)', \n",
    "'West Dublin': 'West Dublin/Pleasanton (WDUB)', \n",
    "'Oakland Airport': 'Oakland Airport (OAKL)'}\n",
    "\n",
    "data['alt_names'] = data['Station'].map(st_names)"
   ]
  },
  {
   "cell_type": "code",
   "execution_count": 244,
   "metadata": {
    "collapsed": true
   },
   "outputs": [],
   "source": [
    "# round variables to the nearest integer (will appear as entries in csv output)\n",
    "def round_var(value):\n",
    "    if isinstance(value, str):\n",
    "        x = value\n",
    "    else:\n",
    "        if pd.notnull(value):\n",
    "            x = int(round(value))\n",
    "        else:\n",
    "            x = np.nan\n",
    "    return x\n",
    "\n",
    "for column in data:\n",
    "    data[column] = data[column].map(round_var)"
   ]
  },
  {
   "cell_type": "code",
   "execution_count": 245,
   "metadata": {
    "collapsed": true
   },
   "outputs": [],
   "source": [
    "#round all numbers to nearest integer\n",
    "data = data.round(0)\n",
    "#export data to csv\n",
    "data.to_csv('/Output/ridership.csv', index=False, sep=',')"
   ]
  },
  {
   "cell_type": "code",
   "execution_count": null,
   "metadata": {
    "collapsed": true
   },
   "outputs": [],
   "source": []
  }
 ],
 "metadata": {
  "anaconda-cloud": {},
  "kernelspec": {
   "display_name": "Python [Root]",
   "language": "python",
   "name": "Python [Root]"
  },
  "language_info": {
   "codemirror_mode": {
    "name": "ipython",
    "version": 3
   },
   "file_extension": ".py",
   "mimetype": "text/x-python",
   "name": "python",
   "nbconvert_exporter": "python",
   "pygments_lexer": "ipython3",
   "version": "3.5.2"
  }
 },
 "nbformat": 4,
 "nbformat_minor": 0
}
